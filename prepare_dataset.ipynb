{
 "cells": [
  {
   "cell_type": "markdown",
   "metadata": {},
   "source": [
    "# Select a subset of events for the analysis"
   ]
  },
  {
   "cell_type": "markdown",
   "metadata": {},
   "source": [
    "read the fastjet output and select a given number of signal and background events for the analysis"
   ]
  },
  {
   "cell_type": "code",
   "execution_count": 2,
   "metadata": {
    "ExecuteTime": {
     "end_time": "2021-01-14T09:52:20.343940Z",
     "start_time": "2021-01-14T09:52:19.906937Z"
    }
   },
   "outputs": [],
   "source": [
    "import pandas as pd\n",
    "import numpy as np"
   ]
  },
  {
   "cell_type": "code",
   "execution_count": 2,
   "metadata": {
    "ExecuteTime": {
     "end_time": "2021-01-14T09:48:57.067555Z",
     "start_time": "2021-01-14T09:48:57.064233Z"
    }
   },
   "outputs": [],
   "source": [
    "Nbkg = 2*500000\n",
    "Nsig = 2*500"
   ]
  },
  {
   "cell_type": "code",
   "execution_count": 3,
   "metadata": {
    "ExecuteTime": {
     "end_time": "2021-01-14T09:48:58.285514Z",
     "start_time": "2021-01-14T09:48:57.336439Z"
    }
   },
   "outputs": [
    {
     "data": {
      "text/html": [
       "<div>\n",
       "<style scoped>\n",
       "    .dataframe tbody tr th:only-of-type {\n",
       "        vertical-align: middle;\n",
       "    }\n",
       "\n",
       "    .dataframe tbody tr th {\n",
       "        vertical-align: top;\n",
       "    }\n",
       "\n",
       "    .dataframe thead th {\n",
       "        text-align: right;\n",
       "    }\n",
       "</style>\n",
       "<table border=\"1\" class=\"dataframe\">\n",
       "  <thead>\n",
       "    <tr style=\"text-align: right;\">\n",
       "      <th></th>\n",
       "      <th>mj1</th>\n",
       "      <th>mj2</th>\n",
       "      <th>label</th>\n",
       "      <th>tau21j1</th>\n",
       "      <th>tau21j2</th>\n",
       "      <th>mjj</th>\n",
       "    </tr>\n",
       "  </thead>\n",
       "  <tbody>\n",
       "    <tr>\n",
       "      <th>0</th>\n",
       "      <td>38.896000</td>\n",
       "      <td>237.893997</td>\n",
       "      <td>0.0</td>\n",
       "      <td>0.583317</td>\n",
       "      <td>0.263237</td>\n",
       "      <td>3307.219387</td>\n",
       "    </tr>\n",
       "    <tr>\n",
       "      <th>1</th>\n",
       "      <td>389.532013</td>\n",
       "      <td>22.999201</td>\n",
       "      <td>0.0</td>\n",
       "      <td>0.519086</td>\n",
       "      <td>0.787732</td>\n",
       "      <td>3107.620603</td>\n",
       "    </tr>\n",
       "    <tr>\n",
       "      <th>2</th>\n",
       "      <td>72.155502</td>\n",
       "      <td>78.230698</td>\n",
       "      <td>0.0</td>\n",
       "      <td>0.789584</td>\n",
       "      <td>0.911809</td>\n",
       "      <td>3004.895272</td>\n",
       "    </tr>\n",
       "    <tr>\n",
       "      <th>3</th>\n",
       "      <td>55.797798</td>\n",
       "      <td>359.113007</td>\n",
       "      <td>0.0</td>\n",
       "      <td>0.277956</td>\n",
       "      <td>0.590729</td>\n",
       "      <td>3233.075105</td>\n",
       "    </tr>\n",
       "    <tr>\n",
       "      <th>4</th>\n",
       "      <td>84.891502</td>\n",
       "      <td>77.506500</td>\n",
       "      <td>0.0</td>\n",
       "      <td>0.577303</td>\n",
       "      <td>0.588890</td>\n",
       "      <td>2919.346337</td>\n",
       "    </tr>\n",
       "    <tr>\n",
       "      <th>...</th>\n",
       "      <td>...</td>\n",
       "      <td>...</td>\n",
       "      <td>...</td>\n",
       "      <td>...</td>\n",
       "      <td>...</td>\n",
       "      <td>...</td>\n",
       "    </tr>\n",
       "    <tr>\n",
       "      <th>1099995</th>\n",
       "      <td>126.183998</td>\n",
       "      <td>108.889999</td>\n",
       "      <td>1.0</td>\n",
       "      <td>0.225403</td>\n",
       "      <td>0.499705</td>\n",
       "      <td>3105.457308</td>\n",
       "    </tr>\n",
       "    <tr>\n",
       "      <th>1099996</th>\n",
       "      <td>115.719002</td>\n",
       "      <td>489.053009</td>\n",
       "      <td>1.0</td>\n",
       "      <td>0.271544</td>\n",
       "      <td>0.203001</td>\n",
       "      <td>3622.836928</td>\n",
       "    </tr>\n",
       "    <tr>\n",
       "      <th>1099997</th>\n",
       "      <td>508.045013</td>\n",
       "      <td>91.104897</td>\n",
       "      <td>1.0</td>\n",
       "      <td>0.166132</td>\n",
       "      <td>0.588186</td>\n",
       "      <td>3546.808986</td>\n",
       "    </tr>\n",
       "    <tr>\n",
       "      <th>1099998</th>\n",
       "      <td>114.938004</td>\n",
       "      <td>553.737000</td>\n",
       "      <td>1.0</td>\n",
       "      <td>0.153972</td>\n",
       "      <td>0.524699</td>\n",
       "      <td>3607.571044</td>\n",
       "    </tr>\n",
       "    <tr>\n",
       "      <th>1099999</th>\n",
       "      <td>154.110992</td>\n",
       "      <td>421.441986</td>\n",
       "      <td>1.0</td>\n",
       "      <td>0.797727</td>\n",
       "      <td>0.545559</td>\n",
       "      <td>3491.634703</td>\n",
       "    </tr>\n",
       "  </tbody>\n",
       "</table>\n",
       "<p>1100000 rows × 6 columns</p>\n",
       "</div>"
      ],
      "text/plain": [
       "                mj1         mj2  label   tau21j1   tau21j2          mjj\n",
       "0         38.896000  237.893997    0.0  0.583317  0.263237  3307.219387\n",
       "1        389.532013   22.999201    0.0  0.519086  0.787732  3107.620603\n",
       "2         72.155502   78.230698    0.0  0.789584  0.911809  3004.895272\n",
       "3         55.797798  359.113007    0.0  0.277956  0.590729  3233.075105\n",
       "4         84.891502   77.506500    0.0  0.577303  0.588890  2919.346337\n",
       "...             ...         ...    ...       ...       ...          ...\n",
       "1099995  126.183998  108.889999    1.0  0.225403  0.499705  3105.457308\n",
       "1099996  115.719002  489.053009    1.0  0.271544  0.203001  3622.836928\n",
       "1099997  508.045013   91.104897    1.0  0.166132  0.588186  3546.808986\n",
       "1099998  114.938004  553.737000    1.0  0.153972  0.524699  3607.571044\n",
       "1099999  154.110992  421.441986    1.0  0.797727  0.545559  3491.634703\n",
       "\n",
       "[1100000 rows x 6 columns]"
      ]
     },
     "execution_count": 3,
     "metadata": {},
     "output_type": "execute_result"
    }
   ],
   "source": [
    "data = pd.read_hdf('events_anomalydetection_v2.features.h5')\n",
    "\n",
    "data['tau21j1'] = data.tau2j1/data.tau1j1\n",
    "data['tau21j2'] = data.tau2j2/data.tau1j2\n",
    "data['Ej1'] = np.sqrt(data.mj1**2\n",
    "                      + (data.pxj1**2 + data.pyj1**2 + data.pzj1**2))\n",
    "data['Ej2'] = np.sqrt(data.mj2**2\n",
    "                      + (data.pxj2**2 + data.pyj2**2 + data.pzj2**2))\n",
    "data['mjj'] = np.sqrt(data.mj1**2 + data.mj2**2\n",
    "                      + 2*(data.Ej1*data.Ej2\n",
    "                           - data.pxj1*data.pxj2\n",
    "                           - data.pyj1*data.pyj2\n",
    "                           - data.pzj1*data.pzj2))\n",
    "# drop unused columns\n",
    "data.drop(columns=['pxj1', 'pyj1', 'pzj1', 'tau1j1', 'tau2j1', 'tau3j1', 'Ej1',\n",
    "                   'pxj2', 'pyj2', 'pzj2', 'tau1j2', 'tau2j2', 'tau3j2', 'Ej2'],\n",
    "          inplace=True)\n",
    "data"
   ]
  },
  {
   "cell_type": "code",
   "execution_count": 4,
   "metadata": {
    "ExecuteTime": {
     "end_time": "2021-01-14T09:48:58.475970Z",
     "start_time": "2021-01-14T09:48:58.287860Z"
    }
   },
   "outputs": [],
   "source": [
    "signal = data[data.label==1].sample(Nsig, random_state=23)\n",
    "background = data[data.label==0].sample(Nbkg, random_state=54)"
   ]
  },
  {
   "cell_type": "code",
   "execution_count": 5,
   "metadata": {
    "ExecuteTime": {
     "end_time": "2021-01-14T09:48:58.674942Z",
     "start_time": "2021-01-14T09:48:58.479706Z"
    }
   },
   "outputs": [],
   "source": [
    "combined = pd.concat((signal, background))\n",
    "# shuffle the events\n",
    "combined = combined.sample(frac=1, random_state=30).reset_index(drop=True)"
   ]
  },
  {
   "cell_type": "code",
   "execution_count": 6,
   "metadata": {
    "ExecuteTime": {
     "end_time": "2021-01-14T09:48:58.884813Z",
     "start_time": "2021-01-14T09:48:58.759554Z"
    }
   },
   "outputs": [],
   "source": [
    "combined.to_hdf('rnd_dataset.hd5', key='data', mode='w')"
   ]
  },
  {
   "cell_type": "code",
   "execution_count": null,
   "metadata": {},
   "outputs": [],
   "source": []
  }
 ],
 "metadata": {
  "kernelspec": {
   "display_name": "Python 3",
   "language": "python",
   "name": "python3"
  },
  "language_info": {
   "codemirror_mode": {
    "name": "ipython",
    "version": 3
   },
   "file_extension": ".py",
   "mimetype": "text/x-python",
   "name": "python",
   "nbconvert_exporter": "python",
   "pygments_lexer": "ipython3",
   "version": "3.7.4"
  },
  "latex_envs": {
   "LaTeX_envs_menu_present": true,
   "autoclose": false,
   "autocomplete": true,
   "bibliofile": "biblio.bib",
   "cite_by": "apalike",
   "current_citInitial": 1,
   "eqLabelWithNumbers": true,
   "eqNumInitial": 1,
   "hotkeys": {
    "equation": "Ctrl-E",
    "itemize": "Ctrl-I"
   },
   "labels_anchors": false,
   "latex_user_defs": false,
   "report_style_numbering": false,
   "user_envs_cfg": false
  },
  "toc": {
   "base_numbering": 1,
   "nav_menu": {},
   "number_sections": true,
   "sideBar": true,
   "skip_h1_title": false,
   "title_cell": "Table of Contents",
   "title_sidebar": "Contents",
   "toc_cell": false,
   "toc_position": {},
   "toc_section_display": true,
   "toc_window_display": false
  }
 },
 "nbformat": 4,
 "nbformat_minor": 4
}
